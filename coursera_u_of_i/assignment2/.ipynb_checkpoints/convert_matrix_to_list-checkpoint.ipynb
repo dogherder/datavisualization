{
 "cells": [
  {
   "cell_type": "code",
   "execution_count": 35,
   "metadata": {
    "collapsed": false
   },
   "outputs": [],
   "source": [
    "from collections import defaultdict\n",
    "import csv\n",
    "import json\n",
    "\n",
    "adjList = []\n",
    "file_name = \"9_11_HIJACKERS_ASSOCIATES.csv\"\n",
    "output_file = \"9_11_HIJACKERS_ADJACENCY_LIST.csv\"\n",
    "\n",
    "with open(file_name, newline='') as csvfile:\n",
    "    matrix = csv.reader(csvfile, delimiter=',')\n",
    "    i = 1\n",
    "    for row in matrix:\n",
    "        j = 1\n",
    "        for column in row:\n",
    "            if column == '1':\n",
    "                adjList.append([i, j])\n",
    "            j += 1\n",
    "        i += 1\n",
    "\n",
    "#for element in adjList:\n",
    "#    print(element)\n",
    "\n",
    "json.dumps(adjList)\n",
    "\n",
    "with open(output_file, 'w') as f:\n",
    "#    f.write(json.dumps(adjList))\n",
    "    f.write(\"source,target\")\n",
    "    f.write(\"\\n\")\n",
    "    for item in adjList:\n",
    "        f.write(str(item[0])+\",\"+str(item[1]))\n",
    "        f.write(\"\\n\")\n"
   ]
  },
  {
   "cell_type": "code",
   "execution_count": 39,
   "metadata": {
    "collapsed": false
   },
   "outputs": [],
   "source": [
    "import json\n",
    "\n",
    "adjList = []\n",
    "file_name = \"9_11_HIJACKERS_ASSOCIATES.csv\"\n",
    "output_file = \"hijackers_adjacency_list.js\"\n",
    "\n",
    "with open(file_name, newline='') as csvfile:\n",
    "    matrix = csv.reader(csvfile, delimiter=',')\n",
    "    i = 1\n",
    "    for row in matrix:\n",
    "        j = 1\n",
    "        for column in row:\n",
    "            if column == '1':\n",
    "                adjList.append([i, j])\n",
    "            j += 1\n",
    "        i += 1\n",
    "\n",
    "#for element in adjList:\n",
    "#    print(element)\n",
    "\n",
    "data = {}\n",
    "data['links'] = []\n",
    "\n",
    "with open(output_file, 'w') as f:\n",
    "    f.write(\"var links_data =[\")\n",
    "    for item in adjList:\n",
    "        data['links'].append({\n",
    "            'source': item[0],\n",
    "            'target': item[1]\n",
    "        })\n",
    "    json.dump(data, f)\n",
    "    f.write(\"];\")\n"
   ]
  },
  {
   "cell_type": "code",
   "execution_count": null,
   "metadata": {
    "collapsed": true
   },
   "outputs": [],
   "source": []
  }
 ],
 "metadata": {
  "kernelspec": {
   "display_name": "Python 3",
   "language": "python",
   "name": "python3"
  },
  "language_info": {
   "codemirror_mode": {
    "name": "ipython",
    "version": 3
   },
   "file_extension": ".py",
   "mimetype": "text/x-python",
   "name": "python",
   "nbconvert_exporter": "python",
   "pygments_lexer": "ipython3",
   "version": "3.5.2"
  }
 },
 "nbformat": 4,
 "nbformat_minor": 2
}
